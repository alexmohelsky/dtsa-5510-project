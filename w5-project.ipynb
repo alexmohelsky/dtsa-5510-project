{
 "cells": [
  {
   "cell_type": "code",
   "execution_count": 1,
   "metadata": {},
   "outputs": [
    {
     "name": "stderr",
     "output_type": "stream",
     "text": [
      "/home/alexmohelsky/anaconda3/envs/PythonGPU/lib/python3.9/site-packages/scipy/__init__.py:146: UserWarning: A NumPy version >=1.16.5 and <1.23.0 is required for this version of SciPy (detected version 1.23.1\n",
      "  warnings.warn(f\"A NumPy version >={np_minversion} and <{np_maxversion}\"\n",
      "2022-12-06 17:53:09.673238: I tensorflow/core/platform/cpu_feature_guard.cc:193] This TensorFlow binary is optimized with oneAPI Deep Neural Network Library (oneDNN) to use the following CPU instructions in performance-critical operations:  AVX2 AVX_VNNI FMA\n",
      "To enable them in other operations, rebuild TensorFlow with the appropriate compiler flags.\n",
      "2022-12-06 17:53:09.944478: I tensorflow/core/util/port.cc:104] oneDNN custom operations are on. You may see slightly different numerical results due to floating-point round-off errors from different computation orders. To turn them off, set the environment variable `TF_ENABLE_ONEDNN_OPTS=0`.\n",
      "2022-12-06 17:53:09.984218: W tensorflow/compiler/xla/stream_executor/platform/default/dso_loader.cc:64] Could not load dynamic library 'libcudart.so.11.0'; dlerror: libcudart.so.11.0: cannot open shared object file: No such file or directory; LD_LIBRARY_PATH: /app/lib\n",
      "2022-12-06 17:53:09.984235: I tensorflow/compiler/xla/stream_executor/cuda/cudart_stub.cc:29] Ignore above cudart dlerror if you do not have a GPU set up on your machine.\n",
      "2022-12-06 17:53:10.956438: W tensorflow/compiler/xla/stream_executor/platform/default/dso_loader.cc:64] Could not load dynamic library 'libnvinfer.so.7'; dlerror: libnvinfer.so.7: cannot open shared object file: No such file or directory; LD_LIBRARY_PATH: /app/lib\n",
      "2022-12-06 17:53:10.956502: W tensorflow/compiler/xla/stream_executor/platform/default/dso_loader.cc:64] Could not load dynamic library 'libnvinfer_plugin.so.7'; dlerror: libnvinfer_plugin.so.7: cannot open shared object file: No such file or directory; LD_LIBRARY_PATH: /app/lib\n",
      "2022-12-06 17:53:10.956507: W tensorflow/compiler/tf2tensorrt/utils/py_utils.cc:38] TF-TRT Warning: Cannot dlopen some TensorRT libraries. If you would like to use Nvidia GPU with TensorRT, please make sure the missing libraries mentioned above are installed properly.\n"
     ]
    },
    {
     "name": "stdout",
     "output_type": "stream",
     "text": [
      "No GPU was detected. Neural nets can be very slow without a GPU.\n"
     ]
    },
    {
     "name": "stderr",
     "output_type": "stream",
     "text": [
      "2022-12-06 17:53:11.976972: I tensorflow/compiler/xla/stream_executor/cuda/cuda_gpu_executor.cc:981] successful NUMA node read from SysFS had negative value (-1), but there must be at least one NUMA node, so returning NUMA node zero\n",
      "2022-12-06 17:53:11.977920: W tensorflow/compiler/xla/stream_executor/platform/default/dso_loader.cc:64] Could not load dynamic library 'libcudart.so.11.0'; dlerror: libcudart.so.11.0: cannot open shared object file: No such file or directory; LD_LIBRARY_PATH: /app/lib\n",
      "2022-12-06 17:53:11.977976: W tensorflow/compiler/xla/stream_executor/platform/default/dso_loader.cc:64] Could not load dynamic library 'libcublas.so.11'; dlerror: libcublas.so.11: cannot open shared object file: No such file or directory; LD_LIBRARY_PATH: /app/lib\n",
      "2022-12-06 17:53:11.978012: W tensorflow/compiler/xla/stream_executor/platform/default/dso_loader.cc:64] Could not load dynamic library 'libcublasLt.so.11'; dlerror: libcublasLt.so.11: cannot open shared object file: No such file or directory; LD_LIBRARY_PATH: /app/lib\n",
      "2022-12-06 17:53:11.978042: W tensorflow/compiler/xla/stream_executor/platform/default/dso_loader.cc:64] Could not load dynamic library 'libcufft.so.10'; dlerror: libcufft.so.10: cannot open shared object file: No such file or directory; LD_LIBRARY_PATH: /app/lib\n",
      "2022-12-06 17:53:11.978073: W tensorflow/compiler/xla/stream_executor/platform/default/dso_loader.cc:64] Could not load dynamic library 'libcurand.so.10'; dlerror: libcurand.so.10: cannot open shared object file: No such file or directory; LD_LIBRARY_PATH: /app/lib\n",
      "2022-12-06 17:53:11.978100: W tensorflow/compiler/xla/stream_executor/platform/default/dso_loader.cc:64] Could not load dynamic library 'libcusolver.so.11'; dlerror: libcusolver.so.11: cannot open shared object file: No such file or directory; LD_LIBRARY_PATH: /app/lib\n",
      "2022-12-06 17:53:11.978127: W tensorflow/compiler/xla/stream_executor/platform/default/dso_loader.cc:64] Could not load dynamic library 'libcusparse.so.11'; dlerror: libcusparse.so.11: cannot open shared object file: No such file or directory; LD_LIBRARY_PATH: /app/lib\n",
      "2022-12-06 17:53:11.978155: W tensorflow/compiler/xla/stream_executor/platform/default/dso_loader.cc:64] Could not load dynamic library 'libcudnn.so.8'; dlerror: libcudnn.so.8: cannot open shared object file: No such file or directory; LD_LIBRARY_PATH: /app/lib\n",
      "2022-12-06 17:53:11.978160: W tensorflow/core/common_runtime/gpu/gpu_device.cc:1934] Cannot dlopen some GPU libraries. Please make sure the missing libraries mentioned above are installed properly if you would like to use GPU. Follow the guide at https://www.tensorflow.org/install/gpu for how to download and setup the required libraries for your platform.\n",
      "Skipping registering GPU devices...\n"
     ]
    }
   ],
   "source": [
    "import matplotlib.pyplot as plt\n",
    "import numpy as np\n",
    "\n",
    "from sklearn.linear_model import LogisticRegression\n",
    "from sklearn.cluster import KMeans\n",
    "from sklearn.model_selection import train_test_split\n",
    "from sklearn.preprocessing import StandardScaler\n",
    "from sklearn.model_selection import GridSearchCV\n",
    "from sklearn.metrics import accuracy_score\n",
    "\n",
    "import tensorflow as tf\n",
    "from keras.datasets import mnist\n",
    "import time\n",
    "\n",
    "from sklearn.metrics import accuracy_score, confusion_matrix\n",
    "\n",
    "# Some project setup code taken from \n",
    "# define font sized s to make the figures pretty\n",
    "# https://colab.research.google.com/github/ageron/handson-ml3/blob/main/17_autoencoders_gans_and_diffusion_models.ipynb#scrollTo=8d4TH3NbpKzx\n",
    "\n",
    "plt.rc('font', size=14)\n",
    "plt.rc('axes', labelsize=14, titlesize=14)\n",
    "plt.rc('legend', fontsize=14)\n",
    "plt.rc('xtick', labelsize=10)\n",
    "plt.rc('ytick', labelsize=10)\n",
    "\n",
    "\n",
    "if not tf.config.list_physical_devices('GPU'):\n",
    "    print(\"No GPU was detected. Neural nets can be very slow without a GPU.\")\n",
    "    if \"google.colab\" in sys.modules:\n",
    "        print(\"Go to Runtime > Change runtime and select a GPU hardware \"\n",
    "              \"accelerator.\")\n",
    "    if \"kaggle_secrets\" in sys.modules:\n",
    "        print(\"Go to Settings > Accelerator and select GPU.\")\n",
    "else:\n",
    "    print(\"GPU device detected\")\n",
    "        \n"
   ]
  },
  {
   "cell_type": "markdown",
   "metadata": {},
   "source": [
    "## 1. Introduction\n",
    "\n",
    "While CCNs have been used in computer image recongnition since the 1980s, in the last 10 years A.I. complex visual tasks performance has increased dramatically due to advanced in computional power as well as deep learning techniques, A.I. This project explores deep computer vision using convolutional neural networks (CNN), i.e. deep learning, using the MNIST image data, both for unsupervised learning using autoencoders and comparing that performance to supervised deep learning. The project is organized into Exploratory Data Analytics (EDA), supervised learning techniques, unsuperised deep learning, comparing the performance of these two techniques, discussing the pros and cons of the two appoaches, and then ends with a conclusion. Note that preprocessing is a little different based on the models that are being used, so the data preprocessing is discussed in each modeling section."
   ]
  },
  {
   "cell_type": "markdown",
   "metadata": {},
   "source": [
    "## 2. Exploratory Data Analysis (EDA)\n",
    "\n",
    "EDA shows that the training set has 60,000 images. Each image is a 28 x 28 pixel grayscale image. The values in the data set range from 0 to 255. These value will have to be normalized or standardized. Examining the y_train data shows that there are 10 classes labelled 0 to 9.\n",
    "\n"
   ]
  },
  {
   "cell_type": "code",
   "execution_count": 3,
   "metadata": {},
   "outputs": [],
   "source": [
    "# importing the dataset from keras\n",
    "\n",
    "mnist = tf.keras.datasets.fashion_mnist.load_data()\n",
    "(x_train, y_train), (x_test, y_test) = mnist\n"
   ]
  },
  {
   "cell_type": "code",
   "execution_count": 4,
   "metadata": {},
   "outputs": [
    {
     "name": "stdout",
     "output_type": "stream",
     "text": [
      "<class 'numpy.ndarray'>\n",
      "<class 'numpy.ndarray'>\n",
      "<class 'numpy.ndarray'>\n",
      "<class 'numpy.ndarray'>\n",
      "(60000, 28, 28)\n",
      "(10000, 28, 28)\n",
      "(60000,)\n",
      "(10000,)\n",
      "0\n",
      "255\n",
      "72.94035223214286\n"
     ]
    }
   ],
   "source": [
    "# EDA\n",
    "print(type(x_train))\n",
    "print(type(x_test))\n",
    "print(type(y_train))\n",
    "print(type(y_test))\n",
    "\n",
    "print(x_train.shape)\n",
    "print(x_test.shape)\n",
    "print(y_train.shape)\n",
    "print(y_test.shape)\n",
    "\n",
    "\n",
    "# Checking the minimum and maximum values of x_train\n",
    "print(x_train.min())\n",
    "print(x_train.max())\n",
    "print(x_train.mean())\n",
    "\n",
    "\n"
   ]
  },
  {
   "cell_type": "code",
   "execution_count": 5,
   "metadata": {},
   "outputs": [
    {
     "data": {
      "text/plain": [
       "<Figure size 640x480 with 0 Axes>"
      ]
     },
     "metadata": {},
     "output_type": "display_data"
    },
    {
     "data": {
      "image/png": "[encoded data removed]",
      "text/plain": [
       "<Figure size 600x600 with 10 Axes>"
      ]
     },
     "metadata": {},
     "output_type": "display_data"
    }
   ],
   "source": [
    "plt.gray() # B/W Images\n",
    "plt.figure(figsize = (6,6)) # Adjusting figure size\n",
    "# Displaying a grid of 3x3 images\n",
    "for i in range(10):\n",
    " plt.subplot(4,3,i+1)\n",
    " plt.imshow(x_train[i])"
   ]
  },
  {
   "cell_type": "code",
   "execution_count": 6,
   "metadata": {},
   "outputs": [
    {
     "name": "stdout",
     "output_type": "stream",
     "text": [
      "[9 0 0 ... 3 0 5]\n",
      "9\n",
      "0\n"
     ]
    }
   ],
   "source": [
    "print(y_train)\n",
    "print(np.max(y_train))\n",
    "print(np.min(y_train))"
   ]
  },
  {
   "cell_type": "markdown",
   "metadata": {},
   "source": [
    "The code above shows there are 10 possible classes."
   ]
  },
  {
   "cell_type": "markdown",
   "metadata": {},
   "source": [
    "## 3. Image Classifcation using Supervised Learning\n",
    "\n",
    "Two supervised learning approaches are used. The first uses Scikit-Learns Logistic Regression to base line supervised learning performance. Logist Regression Classifier is a very simple model and therefore always serves as a good comparator against more complex models. If it does just was well or better, then there is not need for a more complex model that also might be less explainable. Accuracy scores amd confusion matrices are geenrated for the Logistic Regression models. The second is TensorFlows CNN which is widely recognized as one of the best options for deep learning especially for images. Data preprocing for each is slightly different and is explained in each subsection.\n",
    "\n",
    "### 3.1 Logistic Regression\n",
    "\n",
    "Scikit-Learn's \"MNIST classification using multinomial logistic + L1\" example is the reference, however, there are signficant differences and so the code is very different from the well known example:\n",
    "\n",
    "- MNIST Fashion data is used which is more complex than the very well known MNIST \"hand written digits\" data that is used in the example. \n",
    "\n",
    "- Two data preprocessing techniques are used. We will experiment with two normalization techniques: Scitkit-Learn's StandardScaler (this is show in the reference Scikit-Learn example) and then forcing each value to be between 0 and 1 (this is shown in the Kers/Tensflow example). The question that is trying to be answered is to see to see which pre-processing technique yields better results since both example took a different approach (i.e. the two approach are being combined and compared here). Other small difference are noted in the comments in the following code cells. \n",
    "\n",
    "- The same logicst regeression classifier hyperparamters in the referenced example are used to see if one preprocessing works better than the other.\n",
    "\n",
    "- Scikit-Learn's GridSearchCSV is used to perform hyper parameter tuning to enourage getting the best possible performance out of Scikit-Learns Logistic Regression Classifier. This is done for both data preprocessing techniques\n"
   ]
  },
  {
   "cell_type": "code",
   "execution_count": 7,
   "metadata": {},
   "outputs": [
    {
     "name": "stdout",
     "output_type": "stream",
     "text": [
      "(60000, 784)\n",
      "(10000, 784)\n",
      "-2.406991724283392\n",
      "161.8909397703184\n",
      "-9.409454822764139e-19\n"
     ]
    }
   ],
   "source": [
    "# here we convert from 3 dimensions to 2\n",
    "x_train_logit = x_train.reshape((x_train.shape[0], -1))\n",
    "x_test_logit = x_test.reshape((x_test.shape[0], -1))\n",
    "print(x_train_logit.shape)\n",
    "print(x_test_logit.shape)\n",
    "scaler = StandardScaler()\n",
    "#x_train_logit = scaler.fit_transform(x_train_logit)\n",
    "#x_test_logit = scaler.transform(x_test_logit)\n",
    "\n",
    "# default split of 25% is test / hold out data is being used\n",
    "xtr, xtst, ytr, ytst = train_test_split( x_train_logit, y_train)\n",
    "xtr = scaler.fit_transform(xtr)\n",
    "xtst = scaler.fit_transform(xtst)\n",
    "x_test_logit = scaler.fit_transform(x_test_logit)\n",
    "\n",
    "# Checking the minimum, maximum, and mean values of x_train to compare against the originals \n",
    "# shown in the EDA section\n",
    "\n",
    "print(xtr.min())\n",
    "print(xtr.max())\n",
    "print(xtr.mean())\n",
    "\n",
    "\n",
    "\n"
   ]
  },
  {
   "cell_type": "code",
   "execution_count": 9,
   "metadata": {},
   "outputs": [
    {
     "name": "stdout",
     "output_type": "stream",
     "text": [
      "Test score with L1 penalty: 0.8355\n",
      "10.88614535331726\n"
     ]
    }
   ],
   "source": [
    "t0 = time.time()\n",
    "# code it take from \n",
    "# https://scikit-learn.org/stable/auto_examples/linear_model/plot_sparse_logistic_regression_mnist.html#sphx-glr-auto-examples-linear-model-plot-sparse-logistic-regression-mnist-py\n",
    "# Turn up tolerance for faster convergence\n",
    "clf = LogisticRegression(C=1, penalty=\"l1\", solver=\"saga\", tol=0.1)\n",
    "clf.fit(xtr, ytr)\n",
    "#sparsity = np.mean(clf.coef_ == 0) * 100\n",
    "score = clf.score(xtst, ytst)\n",
    "\n",
    "print(\"Test score with L1 penalty: %.4f\" % score)\n",
    "run_time = time.time() - t0\n",
    "print(run_time)"
   ]
  },
  {
   "cell_type": "code",
   "execution_count": 10,
   "metadata": {},
   "outputs": [
    {
     "name": "stdout",
     "output_type": "stream",
     "text": [
      "0.8221\n"
     ]
    }
   ],
   "source": [
    "preds = clf.predict(x_test_logit)\n",
    "print(accuracy_score(y_test, preds))"
   ]
  },
  {
   "cell_type": "code",
   "execution_count": null,
   "metadata": {},
   "outputs": [],
   "source": [
    "print(confusion_matrix(y_test, preds))"
   ]
  },
  {
   "cell_type": "code",
   "execution_count": 11,
   "metadata": {},
   "outputs": [
    {
     "name": "stderr",
     "output_type": "stream",
     "text": [
      "/home/alexmohelsky/anaconda3/envs/PythonGPU/lib/python3.9/site-packages/sklearn/linear_model/_logistic.py:1113: UserWarning: Setting penalty='none' will ignore the C and l1_ratio parameters\n",
      "  warnings.warn(\n",
      "/home/alexmohelsky/anaconda3/envs/PythonGPU/lib/python3.9/site-packages/sklearn/linear_model/_logistic.py:1113: UserWarning: Setting penalty='none' will ignore the C and l1_ratio parameters\n",
      "  warnings.warn(\n",
      "/home/alexmohelsky/anaconda3/envs/PythonGPU/lib/python3.9/site-packages/sklearn/linear_model/_logistic.py:1113: UserWarning: Setting penalty='none' will ignore the C and l1_ratio parameters\n",
      "  warnings.warn(\n",
      "/home/alexmohelsky/anaconda3/envs/PythonGPU/lib/python3.9/site-packages/sklearn/linear_model/_logistic.py:1113: UserWarning: Setting penalty='none' will ignore the C and l1_ratio parameters\n",
      "  warnings.warn(\n",
      "/home/alexmohelsky/anaconda3/envs/PythonGPU/lib/python3.9/site-packages/sklearn/linear_model/_logistic.py:1113: UserWarning: Setting penalty='none' will ignore the C and l1_ratio parameters\n",
      "  warnings.warn(\n",
      "/home/alexmohelsky/anaconda3/envs/PythonGPU/lib/python3.9/site-packages/sklearn/linear_model/_logistic.py:1113: UserWarning: Setting penalty='none' will ignore the C and l1_ratio parameters\n",
      "  warnings.warn(\n",
      "/home/alexmohelsky/anaconda3/envs/PythonGPU/lib/python3.9/site-packages/sklearn/linear_model/_logistic.py:1113: UserWarning: Setting penalty='none' will ignore the C and l1_ratio parameters\n",
      "  warnings.warn(\n",
      "/home/alexmohelsky/anaconda3/envs/PythonGPU/lib/python3.9/site-packages/sklearn/linear_model/_logistic.py:1113: UserWarning: Setting penalty='none' will ignore the C and l1_ratio parameters\n",
      "  warnings.warn(\n",
      "/home/alexmohelsky/anaconda3/envs/PythonGPU/lib/python3.9/site-packages/sklearn/linear_model/_logistic.py:1113: UserWarning: Setting penalty='none' will ignore the C and l1_ratio parameters\n",
      "  warnings.warn(\n",
      "/home/alexmohelsky/anaconda3/envs/PythonGPU/lib/python3.9/site-packages/sklearn/linear_model/_logistic.py:1113: UserWarning: Setting penalty='none' will ignore the C and l1_ratio parameters\n",
      "  warnings.warn(\n",
      "/home/alexmohelsky/anaconda3/envs/PythonGPU/lib/python3.9/site-packages/sklearn/linear_model/_logistic.py:1113: UserWarning: Setting penalty='none' will ignore the C and l1_ratio parameters\n",
      "  warnings.warn(\n",
      "/home/alexmohelsky/anaconda3/envs/PythonGPU/lib/python3.9/site-packages/sklearn/linear_model/_logistic.py:1113: UserWarning: Setting penalty='none' will ignore the C and l1_ratio parameters\n",
      "  warnings.warn(\n",
      "/home/alexmohelsky/anaconda3/envs/PythonGPU/lib/python3.9/site-packages/sklearn/linear_model/_logistic.py:1113: UserWarning: Setting penalty='none' will ignore the C and l1_ratio parameters\n",
      "  warnings.warn(\n",
      "/home/alexmohelsky/anaconda3/envs/PythonGPU/lib/python3.9/site-packages/sklearn/linear_model/_logistic.py:1113: UserWarning: Setting penalty='none' will ignore the C and l1_ratio parameters\n",
      "  warnings.warn(\n",
      "/home/alexmohelsky/anaconda3/envs/PythonGPU/lib/python3.9/site-packages/sklearn/linear_model/_logistic.py:1113: UserWarning: Setting penalty='none' will ignore the C and l1_ratio parameters\n",
      "  warnings.warn(\n",
      "/home/alexmohelsky/anaconda3/envs/PythonGPU/lib/python3.9/site-packages/sklearn/linear_model/_logistic.py:1113: UserWarning: Setting penalty='none' will ignore the C and l1_ratio parameters\n",
      "  warnings.warn(\n",
      "/home/alexmohelsky/anaconda3/envs/PythonGPU/lib/python3.9/site-packages/sklearn/linear_model/_logistic.py:1113: UserWarning: Setting penalty='none' will ignore the C and l1_ratio parameters\n",
      "  warnings.warn(\n",
      "/home/alexmohelsky/anaconda3/envs/PythonGPU/lib/python3.9/site-packages/sklearn/linear_model/_logistic.py:1113: UserWarning: Setting penalty='none' will ignore the C and l1_ratio parameters\n",
      "  warnings.warn(\n",
      "/home/alexmohelsky/anaconda3/envs/PythonGPU/lib/python3.9/site-packages/sklearn/linear_model/_logistic.py:1113: UserWarning: Setting penalty='none' will ignore the C and l1_ratio parameters\n",
      "  warnings.warn(\n",
      "/home/alexmohelsky/anaconda3/envs/PythonGPU/lib/python3.9/site-packages/sklearn/linear_model/_logistic.py:1113: UserWarning: Setting penalty='none' will ignore the C and l1_ratio parameters\n",
      "  warnings.warn(\n",
      "/home/alexmohelsky/anaconda3/envs/PythonGPU/lib/python3.9/site-packages/sklearn/linear_model/_logistic.py:1113: UserWarning: Setting penalty='none' will ignore the C and l1_ratio parameters\n",
      "  warnings.warn(\n",
      "/home/alexmohelsky/anaconda3/envs/PythonGPU/lib/python3.9/site-packages/sklearn/linear_model/_logistic.py:1113: UserWarning: Setting penalty='none' will ignore the C and l1_ratio parameters\n",
      "  warnings.warn(\n",
      "/home/alexmohelsky/anaconda3/envs/PythonGPU/lib/python3.9/site-packages/sklearn/linear_model/_logistic.py:1113: UserWarning: Setting penalty='none' will ignore the C and l1_ratio parameters\n",
      "  warnings.warn(\n",
      "/home/alexmohelsky/anaconda3/envs/PythonGPU/lib/python3.9/site-packages/sklearn/linear_model/_logistic.py:1113: UserWarning: Setting penalty='none' will ignore the C and l1_ratio parameters\n",
      "  warnings.warn(\n",
      "/home/alexmohelsky/anaconda3/envs/PythonGPU/lib/python3.9/site-packages/sklearn/linear_model/_logistic.py:1113: UserWarning: Setting penalty='none' will ignore the C and l1_ratio parameters\n",
      "  warnings.warn(\n",
      "/home/alexmohelsky/anaconda3/envs/PythonGPU/lib/python3.9/site-packages/sklearn/linear_model/_logistic.py:1113: UserWarning: Setting penalty='none' will ignore the C and l1_ratio parameters\n",
      "  warnings.warn(\n",
      "/home/alexmohelsky/anaconda3/envs/PythonGPU/lib/python3.9/site-packages/sklearn/linear_model/_logistic.py:1113: UserWarning: Setting penalty='none' will ignore the C and l1_ratio parameters\n",
      "  warnings.warn(\n",
      "/home/alexmohelsky/anaconda3/envs/PythonGPU/lib/python3.9/site-packages/sklearn/linear_model/_logistic.py:1113: UserWarning: Setting penalty='none' will ignore the C and l1_ratio parameters\n",
      "  warnings.warn(\n",
      "/home/alexmohelsky/anaconda3/envs/PythonGPU/lib/python3.9/site-packages/sklearn/linear_model/_logistic.py:1113: UserWarning: Setting penalty='none' will ignore the C and l1_ratio parameters\n",
      "  warnings.warn(\n",
      "/home/alexmohelsky/anaconda3/envs/PythonGPU/lib/python3.9/site-packages/sklearn/linear_model/_logistic.py:1113: UserWarning: Setting penalty='none' will ignore the C and l1_ratio parameters\n",
      "  warnings.warn(\n",
      "/home/alexmohelsky/anaconda3/envs/PythonGPU/lib/python3.9/site-packages/sklearn/linear_model/_logistic.py:1113: UserWarning: Setting penalty='none' will ignore the C and l1_ratio parameters\n",
      "  warnings.warn(\n",
      "/home/alexmohelsky/anaconda3/envs/PythonGPU/lib/python3.9/site-packages/sklearn/linear_model/_logistic.py:1113: UserWarning: Setting penalty='none' will ignore the C and l1_ratio parameters\n",
      "  warnings.warn(\n",
      "/home/alexmohelsky/anaconda3/envs/PythonGPU/lib/python3.9/site-packages/sklearn/linear_model/_logistic.py:1113: UserWarning: Setting penalty='none' will ignore the C and l1_ratio parameters\n",
      "  warnings.warn(\n",
      "/home/alexmohelsky/anaconda3/envs/PythonGPU/lib/python3.9/site-packages/sklearn/linear_model/_logistic.py:1113: UserWarning: Setting penalty='none' will ignore the C and l1_ratio parameters\n",
      "  warnings.warn(\n",
      "/home/alexmohelsky/anaconda3/envs/PythonGPU/lib/python3.9/site-packages/sklearn/linear_model/_logistic.py:1113: UserWarning: Setting penalty='none' will ignore the C and l1_ratio parameters\n",
      "  warnings.warn(\n",
      "/home/alexmohelsky/anaconda3/envs/PythonGPU/lib/python3.9/site-packages/sklearn/linear_model/_logistic.py:1113: UserWarning: Setting penalty='none' will ignore the C and l1_ratio parameters\n",
      "  warnings.warn(\n",
      "/home/alexmohelsky/anaconda3/envs/PythonGPU/lib/python3.9/site-packages/sklearn/linear_model/_logistic.py:1113: UserWarning: Setting penalty='none' will ignore the C and l1_ratio parameters\n",
      "  warnings.warn(\n",
      "/home/alexmohelsky/anaconda3/envs/PythonGPU/lib/python3.9/site-packages/sklearn/linear_model/_logistic.py:1113: UserWarning: Setting penalty='none' will ignore the C and l1_ratio parameters\n",
      "  warnings.warn(\n",
      "/home/alexmohelsky/anaconda3/envs/PythonGPU/lib/python3.9/site-packages/sklearn/linear_model/_logistic.py:1113: UserWarning: Setting penalty='none' will ignore the C and l1_ratio parameters\n",
      "  warnings.warn(\n",
      "/home/alexmohelsky/anaconda3/envs/PythonGPU/lib/python3.9/site-packages/sklearn/linear_model/_logistic.py:1113: UserWarning: Setting penalty='none' will ignore the C and l1_ratio parameters\n",
      "  warnings.warn(\n",
      "/home/alexmohelsky/anaconda3/envs/PythonGPU/lib/python3.9/site-packages/sklearn/model_selection/_validation.py:378: FitFailedWarning: \n",
      "100 fits failed out of a total of 225.\n",
      "The score on these train-test partitions for these parameters will be set to nan.\n",
      "If these failures are not expected, you can try to debug them by setting error_score='raise'.\n",
      "\n",
      "Below are more details about the failures:\n",
      "--------------------------------------------------------------------------------\n",
      "75 fits failed with the following error:\n",
      "Traceback (most recent call last):\n",
      "  File \"/home/alexmohelsky/anaconda3/envs/PythonGPU/lib/python3.9/site-packages/sklearn/model_selection/_validation.py\", line 686, in _fit_and_score\n",
      "    estimator.fit(X_train, y_train, **fit_params)\n",
      "  File \"/home/alexmohelsky/anaconda3/envs/PythonGPU/lib/python3.9/site-packages/sklearn/linear_model/_logistic.py\", line 1091, in fit\n",
      "    solver = _check_solver(self.solver, self.penalty, self.dual)\n",
      "  File \"/home/alexmohelsky/anaconda3/envs/PythonGPU/lib/python3.9/site-packages/sklearn/linear_model/_logistic.py\", line 48, in _check_solver\n",
      "    raise ValueError(\n",
      "ValueError: Logistic Regression supports only solvers in ['liblinear', 'newton-cg', 'lbfgs', 'sag', 'saga'], got lbfsgs.\n",
      "\n",
      "--------------------------------------------------------------------------------\n",
      "25 fits failed with the following error:\n",
      "Traceback (most recent call last):\n",
      "  File \"/home/alexmohelsky/anaconda3/envs/PythonGPU/lib/python3.9/site-packages/sklearn/model_selection/_validation.py\", line 686, in _fit_and_score\n",
      "    estimator.fit(X_train, y_train, **fit_params)\n",
      "  File \"/home/alexmohelsky/anaconda3/envs/PythonGPU/lib/python3.9/site-packages/sklearn/linear_model/_logistic.py\", line 1091, in fit\n",
      "    solver = _check_solver(self.solver, self.penalty, self.dual)\n",
      "  File \"/home/alexmohelsky/anaconda3/envs/PythonGPU/lib/python3.9/site-packages/sklearn/linear_model/_logistic.py\", line 61, in _check_solver\n",
      "    raise ValueError(\n",
      "ValueError: Solver sag supports only 'l2' or 'none' penalties, got l1 penalty.\n",
      "\n",
      "  warnings.warn(some_fits_failed_message, FitFailedWarning)\n",
      "/home/alexmohelsky/anaconda3/envs/PythonGPU/lib/python3.9/site-packages/sklearn/model_selection/_search.py:953: UserWarning: One or more of the test scores are non-finite: [       nan        nan 0.83217778        nan 0.84051111 0.8328\n",
      "        nan 0.8398     0.83275556        nan        nan 0.83255556\n",
      "        nan 0.84055556 0.83217778        nan 0.84       0.83257778\n",
      "        nan        nan 0.83206667        nan 0.83964444 0.83213333\n",
      "        nan 0.84044444 0.83144444        nan        nan 0.83271111\n",
      "        nan 0.84013333 0.83168889        nan 0.84046667 0.83246667\n",
      "        nan        nan 0.83231111        nan 0.84026667 0.83302222\n",
      "        nan 0.84055556 0.83275556]\n",
      "  warnings.warn(\n"
     ]
    },
    {
     "name": "stdout",
     "output_type": "stream",
     "text": [
      "GridSearchCV Test score: 0.8461\n",
      "{'C': 0.8, 'penalty': 'l2', 'solver': 'sag', 'tol': 0.1}\n"
     ]
    }
   ],
   "source": [
    "parameters = {'penalty':('l1', 'l2', 'none'), 'C':[1, .8, .6, .4, .2], \n",
    "              'tol':[0.1],\n",
    "              'solver': ['lbfsgs', 'sag', 'saga']}\n",
    "\n",
    "model = LogisticRegression()\n",
    "\n",
    "clf = GridSearchCV(model, parameters)\n",
    "clf.fit(xtr, ytr)\n",
    "score = clf.score(xtst, ytst)\n",
    "print(\"GridSearchCV Test score: %.4f\" % score)\n",
    "print(clf.best_params_)\n",
    "run_time = time.time() - t0"
   ]
  },
  {
   "cell_type": "code",
   "execution_count": 17,
   "metadata": {},
   "outputs": [
    {
     "name": "stdout",
     "output_type": "stream",
     "text": [
      "0.8286\n"
     ]
    }
   ],
   "source": [
    "preds = clf.predict(x_test_logit)\n",
    "print(accuracy_score(y_test, preds))"
   ]
  },
  {
   "cell_type": "code",
   "execution_count": 13,
   "metadata": {},
   "outputs": [
    {
     "name": "stdout",
     "output_type": "stream",
     "text": [
      "[[802   4  11  58   7   5 101   0  12   0]\n",
      " [  5 949   5  32   6   0   2   0   1   0]\n",
      " [ 20   6 711  10 136   3 102   0  12   0]\n",
      " [ 32  13   9 858  33   2  50   0   2   1]\n",
      " [  0   2 115  41 747   0  89   0   6   0]\n",
      " [  1   0   0   2   0 898   0  58   6  35]\n",
      " [141   6 122  48 109   3 550   0  21   0]\n",
      " [  0   0   0   0   0  47   0 906   1  46]\n",
      " [  2   1   9  12   2  11  21   6 934   2]\n",
      " [  0   0   0   0   0  22   1  46   0 931]]\n"
     ]
    }
   ],
   "source": [
    "print(confusion_matrix(y_test, preds))\n"
   ]
  },
  {
   "cell_type": "markdown",
   "metadata": {},
   "source": [
    "Using GridSearchCV, we found that the following parameters 'C': 0.6, 'penalty': 'l2', 'solver': 'sag', 'tol': 0.1 yielded the best training accuracy of 83.8% and an accuracy of 83.0% on the test data. The Scikit-Learn example yielded an 83.0% training accuracy and an accuracy of 82.3% on the training data. So we were able to find a slightly better set of hyperparameters."
   ]
  },
  {
   "cell_type": "markdown",
   "metadata": {},
   "source": [
    "### 3.2 Deep Learning (CNN)"
   ]
  },
  {
   "cell_type": "markdown",
   "metadata": {},
   "source": [
    "In this section will will show "
   ]
  },
  {
   "cell_type": "code",
   "execution_count": null,
   "metadata": {},
   "outputs": [],
   "source": [
    "#x_train_cnn_full = np.expand_dims(x_train, axis=-1).astype(np.float32) / 255\n",
    "#x_test_cnn_full = np.expand_dims(x_test.astype(np.float32), axis=-1) / 255\n",
    "\n",
    "#x_train_cnn, x_valid_cnn = x_train_cnn_full[:-5000], x_train_cnn_full[-5000:]\n",
    "#y_train_cnn, y_valid_cnn = y_train[:-5000], y_train[-5000:]"
   ]
  },
  {
   "cell_type": "code",
   "execution_count": 14,
   "metadata": {},
   "outputs": [
    {
     "name": "stdout",
     "output_type": "stream",
     "text": [
      "(60000, 28, 28)\n"
     ]
    }
   ],
   "source": [
    "# extra code – loads the mnist dataset, add the channels axis to the inputs,\n",
    "#              scales the values to the 0-1 range, and splits the dataset\n",
    "mnist = tf.keras.datasets.fashion_mnist.load_data()\n",
    "(X_train_full, y_train_full), (X_test, y_test) = mnist\n",
    "print(X_train_full.shape)\n",
    "X_train_full = np.expand_dims(X_train_full, axis=-1).astype(np.float32) / 255\n",
    "X_test = np.expand_dims(X_test.astype(np.float32), axis=-1) / 255\n",
    "X_train, X_valid = X_train_full[:-5000], X_train_full[-5000:]\n",
    "y_train, y_valid = y_train_full[:-5000], y_train_full[-5000:]"
   ]
  },
  {
   "cell_type": "code",
   "execution_count": 15,
   "metadata": {},
   "outputs": [
    {
     "name": "stderr",
     "output_type": "stream",
     "text": [
      "2022-12-06 18:06:23.913464: I tensorflow/core/platform/cpu_feature_guard.cc:193] This TensorFlow binary is optimized with oneAPI Deep Neural Network Library (oneDNN) to use the following CPU instructions in performance-critical operations:  AVX2 AVX_VNNI FMA\n",
      "To enable them in other operations, rebuild TensorFlow with the appropriate compiler flags.\n"
     ]
    }
   ],
   "source": [
    "from functools import partial\n",
    "\n",
    "tf.random.set_seed(42)  # extra code – ensures reproducibility\n",
    "DefaultConv2D = partial(tf.keras.layers.Conv2D, kernel_size=3, padding=\"same\",\n",
    "                        activation=\"relu\", kernel_initializer=\"he_normal\")\n",
    "model = tf.keras.Sequential([\n",
    "    DefaultConv2D(filters=64, kernel_size=7, input_shape=[28, 28, 1]),\n",
    "    tf.keras.layers.MaxPool2D(),\n",
    "    DefaultConv2D(filters=128),\n",
    "    DefaultConv2D(filters=128),\n",
    "    tf.keras.layers.MaxPool2D(),\n",
    "    DefaultConv2D(filters=256),\n",
    "    DefaultConv2D(filters=256),\n",
    "    tf.keras.layers.MaxPool2D(),\n",
    "    tf.keras.layers.Flatten(),\n",
    "    tf.keras.layers.Dense(units=128, activation=\"relu\",\n",
    "                          kernel_initializer=\"he_normal\"),\n",
    "    tf.keras.layers.Dropout(0.5),\n",
    "    tf.keras.layers.Dense(units=64, activation=\"relu\",\n",
    "                          kernel_initializer=\"he_normal\"),\n",
    "    tf.keras.layers.Dropout(0.5),\n",
    "    tf.keras.layers.Dense(units=10, activation=\"softmax\")\n",
    "])"
   ]
  },
  {
   "cell_type": "code",
   "execution_count": 16,
   "metadata": {},
   "outputs": [
    {
     "name": "stdout",
     "output_type": "stream",
     "text": [
      "Epoch 1/5\n",
      "1719/1719 [==============================] - 103s 59ms/step - loss: 0.7520 - accuracy: 0.7371 - val_loss: 0.3924 - val_accuracy: 0.8646\n",
      "Epoch 2/5\n",
      "1719/1719 [==============================] - 101s 59ms/step - loss: 0.4346 - accuracy: 0.8524 - val_loss: 0.3127 - val_accuracy: 0.8848\n",
      "Epoch 3/5\n",
      "1719/1719 [==============================] - 101s 59ms/step - loss: 0.3636 - accuracy: 0.8757 - val_loss: 0.2923 - val_accuracy: 0.8914\n",
      "Epoch 4/5\n",
      "1719/1719 [==============================] - 101s 59ms/step - loss: 0.3234 - accuracy: 0.8916 - val_loss: 0.2703 - val_accuracy: 0.8972\n",
      "Epoch 5/5\n",
      "1719/1719 [==============================] - 101s 59ms/step - loss: 0.2973 - accuracy: 0.8999 - val_loss: 0.2557 - val_accuracy: 0.9068\n",
      "313/313 [==============================] - 8s 25ms/step - loss: 0.2822 - accuracy: 0.9023\n",
      "313/313 [==============================] - 8s 25ms/step\n"
     ]
    }
   ],
   "source": [
    "# extra code – compiles, fits, evaluates, and uses the model to make predictions\n",
    "model.compile(loss=\"sparse_categorical_crossentropy\", optimizer=\"nadam\",\n",
    "              metrics=[\"accuracy\"])\n",
    "history = model.fit(X_train, y_train, epochs=5,\n",
    "                    validation_data=(X_valid, y_valid))\n",
    "score = model.evaluate(X_test, y_test)\n",
    "#X_new = X_test[:10]  # pretend we have new images\n",
    "y_pred = model.predict(x_test)\n",
    "\n",
    "# X_new = X_test[:10]  # pretend we have new images\n",
    "#y_pred = model.predict(x_test)"
   ]
  },
  {
   "cell_type": "markdown",
   "metadata": {},
   "source": [
    "### 3.3 Supervised Learning Model Comparisons\n",
    "\n",
    "We were able to improve the accuracy on the test data of the sckit-learn hyper example hyperparameter from 83.0% to 83.8%  using GridSearchCV to find better hyperparameters. Deep learning CNN yielded an accuracy of 90% on the test data. Clearly deep learning achieved a much better result."
   ]
  },
  {
   "cell_type": "markdown",
   "metadata": {},
   "source": [
    "## 4. Image Classification Using Unsupervised Learning\n",
    "\n",
    "There are known to be 10 classes in the fashino MNIST data set. We first use k-means clustering to see how this performs. We then use a deep learning autoencoder to reduce the dimensions and then pass it to k-means cluster to see if it improved the performance.\n",
    "\n"
   ]
  },
  {
   "cell_type": "code",
   "execution_count": 19,
   "metadata": {},
   "outputs": [],
   "source": [
    "def label_permute_compare(yt, yp):\n",
    "    \"\"\"\n",
    "    ytdf: labels dataframe object\n",
    "    yp: clustering label prediction output\n",
    "    Returns permuted label order and accuracy. \n",
    "    Example output: (3, 4, 1, 2, 0), 0.74 \n",
    "    \"\"\"\n",
    "    # Referenced \n",
    "    # https://stackoverflow.com/questions/11683785/\n",
    "    #         how-can-i-match-up-cluster-labels-to-my-ground-truth-labels-in-matlab\n",
    "    # to develop the following code\n",
    "    \n",
    "    labelorder = []\n",
    "    acc = 0\n",
    "    label_dict = {}\n",
    "    type(yp)\n",
    "    pred_cluster_labels = [0, 1, 2, 3, 4, 5, 6, 7, 8, 9] \n",
    "    \n",
    "    # map true label values to integers to we can then use them to compare to \n",
    "    # permuations of labels\n",
    "    # labels = ytdf[col].unique() # get the label values\n",
    "    labels = pred_cluster_labels\n",
    "    \n",
    "    for i, label in enumerate(labels):\n",
    "        label_dict[label] = i\n",
    "    #ytdf['pred']=ytdf[col].map(label_dict)\n",
    "    \n",
    "    # for each permuation of the labels, compare to new lable column to measure accuracy\n",
    "    from itertools import permutations   \n",
    "    # we need perumations of integer set with elements 0-4\n",
    "    perms = permutations(range(len(labels)))  \n",
    "    \n",
    "    for p in perms:\n",
    "        converted_labels = np.zeros(len(yt))\n",
    "        for i, label in enumerate(pred_cluster_labels):\n",
    "            converted_labels[yp == label] = p[i]\n",
    "            \n",
    "        test_acc = np.sum(converted_labels == yt )/ len(yt)\n",
    "        if test_acc > acc:\n",
    "            acc = test_acc\n",
    "            labelorder = p\n",
    "                  \n",
    "    return labels, labelorder, round(acc,4)"
   ]
  },
  {
   "cell_type": "code",
   "execution_count": 20,
   "metadata": {},
   "outputs": [
    {
     "name": "stdout",
     "output_type": "stream",
     "text": [
      "(60000, 28, 28)\n",
      "(60000, 784)\n"
     ]
    }
   ],
   "source": [
    "kmnist = tf.keras.datasets.fashion_mnist.load_data()\n",
    "(X_train_full, y_train_full), (X_test, y_test) = mnist\n",
    "print(X_train_full.shape)\n",
    "X = X_train_full.reshape(-1,X_train_full.shape[1]*X_train_full.shape[2])\n",
    "print(X.shape)\n",
    "Xmeans = KMeans(n_clusters=10, random_state=0).fit_predict(X)\n",
    " "
   ]
  },
  {
   "cell_type": "code",
   "execution_count": 21,
   "metadata": {},
   "outputs": [
    {
     "name": "stdout",
     "output_type": "stream",
     "text": [
      "[9 2 4 ... 2 4 4]\n",
      "[9 0 0 ... 9 0 2]\n"
     ]
    }
   ],
   "source": [
    "print(Xmeans)\n",
    "print(y_train)"
   ]
  },
  {
   "cell_type": "code",
   "execution_count": null,
   "metadata": {},
   "outputs": [],
   "source": [
    "#print(label_permute_compare(y_train_full, Xmeans))"
   ]
  },
  {
   "cell_type": "code",
   "execution_count": 22,
   "metadata": {},
   "outputs": [],
   "source": [
    "# extra code – loads the mnist dataset, add the channels axis to the inputs,\n",
    "#              scales the values to the 0-1 range, and splits the dataset\n",
    "#mnist = tf.keras.datasets.fashion_mnist.load_data()\n",
    "#(X_train_full, y_train_full), (X_test, y_test) = mnist\n",
    "#print(X_train_full.shape)\n",
    "#X_train_full = np.expand_dims(X_train_full, axis=-1).astype(np.float32) / 255\n",
    "#X_test = np.expand_dims(X_test.astype(np.float32), axis=-1) / 255\n",
    "X_train, X_valid = X_train_full[:-5000], X_train_full[-5000:]\n",
    "y_train, y_valid = y_train_full[:-5000], y_train_full[-5000:]"
   ]
  },
  {
   "cell_type": "code",
   "execution_count": null,
   "metadata": {},
   "outputs": [],
   "source": []
  },
  {
   "cell_type": "code",
   "execution_count": 23,
   "metadata": {},
   "outputs": [
    {
     "name": "stdout",
     "output_type": "stream",
     "text": [
      "Epoch 1/20\n",
      "1719/1719 [==============================] - 6s 3ms/step - loss: 1518.7205 - val_loss: 1151.9677\n",
      "Epoch 2/20\n",
      "1719/1719 [==============================] - 5s 3ms/step - loss: 1074.8805 - val_loss: 1041.8568\n",
      "Epoch 3/20\n",
      "1719/1719 [==============================] - 5s 3ms/step - loss: 1007.8750 - val_loss: 1002.8320\n",
      "Epoch 4/20\n",
      "1719/1719 [==============================] - 5s 3ms/step - loss: 977.0433 - val_loss: 974.1972\n",
      "Epoch 5/20\n",
      "1719/1719 [==============================] - 4s 3ms/step - loss: 954.9719 - val_loss: 957.8778\n",
      "Epoch 6/20\n",
      "1719/1719 [==============================] - 4s 3ms/step - loss: 938.3025 - val_loss: 936.8017\n",
      "Epoch 7/20\n",
      "1719/1719 [==============================] - 5s 3ms/step - loss: 922.2271 - val_loss: 927.0579\n",
      "Epoch 8/20\n",
      "1719/1719 [==============================] - 5s 3ms/step - loss: 908.6515 - val_loss: 930.7096\n",
      "Epoch 9/20\n",
      "1719/1719 [==============================] - 5s 3ms/step - loss: 899.9086 - val_loss: 910.5980\n",
      "Epoch 10/20\n",
      "1719/1719 [==============================] - 5s 3ms/step - loss: 892.4680 - val_loss: 907.7019\n",
      "Epoch 11/20\n",
      "1719/1719 [==============================] - 5s 3ms/step - loss: 886.9147 - val_loss: 897.8485\n",
      "Epoch 12/20\n",
      "1719/1719 [==============================] - 5s 3ms/step - loss: 881.2667 - val_loss: 884.3953\n",
      "Epoch 13/20\n",
      "1719/1719 [==============================] - 5s 3ms/step - loss: 877.2213 - val_loss: 884.4345\n",
      "Epoch 14/20\n",
      "1719/1719 [==============================] - 5s 3ms/step - loss: 873.0697 - val_loss: 882.7822\n",
      "Epoch 15/20\n",
      "1719/1719 [==============================] - 5s 3ms/step - loss: 869.9167 - val_loss: 884.1796\n",
      "Epoch 16/20\n",
      "1719/1719 [==============================] - 5s 3ms/step - loss: 866.4162 - val_loss: 879.4795\n",
      "Epoch 17/20\n",
      "1719/1719 [==============================] - 5s 3ms/step - loss: 863.6901 - val_loss: 880.8215\n",
      "Epoch 18/20\n",
      "1719/1719 [==============================] - 5s 3ms/step - loss: 861.2424 - val_loss: 870.2795\n",
      "Epoch 19/20\n",
      "1719/1719 [==============================] - 5s 3ms/step - loss: 858.6785 - val_loss: 870.3472\n",
      "Epoch 20/20\n",
      "1719/1719 [==============================] - 5s 3ms/step - loss: 856.3337 - val_loss: 868.5802\n"
     ]
    }
   ],
   "source": [
    "# from https://colab.research.google.com/github/ageron/handson-ml3/blob/main/17_autoencoders_gans_and_diffusion_models.ipynb#scrollTo=klppwl4gyLhC\n",
    "\n",
    "tf.random.set_seed(42)  # extra code – ensures reproducibility on CPU\n",
    "\n",
    "stacked_encoder = tf.keras.Sequential([\n",
    "    tf.keras.layers.Flatten(),\n",
    "    tf.keras.layers.Dense(100, activation=\"relu\"),\n",
    "    tf.keras.layers.Dense(30, activation=\"relu\"),\n",
    "])\n",
    "stacked_decoder = tf.keras.Sequential([\n",
    "    tf.keras.layers.Dense(100, activation=\"relu\"),\n",
    "    tf.keras.layers.Dense(28 * 28),\n",
    "    tf.keras.layers.Reshape([28, 28])\n",
    "])\n",
    "stacked_ae = tf.keras.Sequential([stacked_encoder, stacked_decoder])\n",
    "\n",
    "stacked_ae.compile(loss=\"mse\", optimizer=\"nadam\")                   \n",
    "history = stacked_ae.fit(X_train, X_train, epochs=20,\n",
    "                         validation_data=(X_valid, X_valid))"
   ]
  },
  {
   "cell_type": "code",
   "execution_count": 24,
   "metadata": {},
   "outputs": [
    {
     "name": "stdout",
     "output_type": "stream",
     "text": [
      "157/157 [==============================] - 0s 1ms/step\n",
      "(5000, 30)\n"
     ]
    }
   ],
   "source": [
    "# from https://colab.research.google.com/github/ageron/handson-ml3/blob/main/17_autoencoders_gans_and_diffusion_models.ipynb#scrollTo=klppwl4gyLhC\n",
    "from sklearn.manifold import TSNE\n",
    "\n",
    "X_valid_compressed = stacked_encoder.predict(X_valid)\n",
    "print(X_valid_compressed.shape)\n",
    "#tsne = TSNE(init=\"pca\", learning_rate=\"auto\", random_state=42)\n",
    "#X_valid_2D = tsne.fit_transform(X_valid_compressed)"
   ]
  },
  {
   "cell_type": "code",
   "execution_count": 25,
   "metadata": {},
   "outputs": [],
   "source": [
    "Xmeans = KMeans(n_clusters=10, random_state=0).fit_predict(X_valid_compressed)\n"
   ]
  },
  {
   "cell_type": "code",
   "execution_count": 26,
   "metadata": {},
   "outputs": [
    {
     "name": "stdout",
     "output_type": "stream",
     "text": [
      "[2 8 9 ... 9 0 6]\n"
     ]
    }
   ],
   "source": [
    "print(Xmeans)"
   ]
  },
  {
   "cell_type": "code",
   "execution_count": null,
   "metadata": {},
   "outputs": [],
   "source": [
    "#print(label_permute_compare(y_train_full, Xmeans))"
   ]
  },
  {
   "cell_type": "code",
   "execution_count": null,
   "metadata": {},
   "outputs": [],
   "source": []
  },
  {
   "cell_type": "code",
   "execution_count": null,
   "metadata": {},
   "outputs": [],
   "source": []
  },
  {
   "cell_type": "code",
   "execution_count": null,
   "metadata": {},
   "outputs": [],
   "source": [
    "print(X_valid_2D)"
   ]
  },
  {
   "cell_type": "markdown",
   "metadata": {},
   "source": [
    "## Conclusion\n",
    "Unforunately, I could not verify the accuracy of the cluster using a similar approach as used in this class. The number of permutations to compare is 10! or 3,628,800 combinations which too much to long for me to complete (I ran out of time to complete this project or find a different way to validate cluster accuracy. If I had time, I could have reduced the numner of classes to 5 which may have allowed me to use the same technique to evaluate how accurate the clustering was. One thing we can conlude is that K-Means clustering runs much faster after the dimenstionality is reduced: 0.2 s as opposed to 11.5 s.\n",
    "\n",
    " For the Supervised learning portion we were able to improve the accuracy on the test data of the sckit-learn hyper example hyperparameter from 83.0% to 83.8%  using GridSearchCV to find better hyperparameters. We successfully used a Deep Learning CNN yielded an accuracy of 90.4% on the test data. Clearly deep learning achieved a much better result.\n"
   ]
  },
  {
   "cell_type": "markdown",
   "metadata": {},
   "source": [
    "## References\n",
    "Geron, Aurlien, 2023, \"Hands-on Machine Learning with Scikit-Learn, Kears, and Tensorflow, 3rd Editiion\", Chapter 14, \n",
    "\n",
    "Geron, Aurlien, 2023, \"Hands-on Machine Learning with Scikit-Learn, Kears, and Tensorflow, 3rd Editiion\", Chapter 14 Solutions Notebook, https://colab.research.google.com/github/ageron/handson-ml3/blob/main/14_deep_computer_vision_with_cnns.ipynb\n",
    "\n",
    "Geron, Aurlien, 2023, \"Hands-on Machine Learning with Scikit-Learn, Kears, and Tensorflow, 3rd Editiion\", Chapter 17 Solutions notebook, https://colab.research.google.com/github/ageron/handson-ml3/blob/main/17_autoencoders_gans_and_diffusion_models.ipynb\n",
    "\n",
    "Mensch, Arthur, \"MNIST classification using multinomial logistic + L1\", https://scikit-learn.org/stable/auto_examples/linear_model/plot_sparse_logistic_regression_mnist.html#sphx-glr-auto-examples-linear-model-plot-sparse-logistic-regression-mnist-py\n",
    "\n",
    "Franklin, Joel, 2020, \"K-Means Clustering for Image Classification\", https://medium.com/@joel_34096/k-means-clustering-for-image-classification-a648f28bdc47\n",
    "\n",
    "\"sklearn.model_selection.GridSearchCV\", https://scikit-learn.org/stable/modules/generated/sklearn.model_selection.GridSearchCV.html#sklearn.model_selection.GridSearchCV.score"
   ]
  }
 ],
 "metadata": {
  "kernelspec": {
   "display_name": "Python 3.9.12 ('PythonGPU')",
   "language": "python",
   "name": "python3"
  },
  "language_info": {
   "codemirror_mode": {
    "name": "ipython",
    "version": 3
   },
   "file_extension": ".py",
   "mimetype": "text/x-python",
   "name": "python",
   "nbconvert_exporter": "python",
   "pygments_lexer": "ipython3",
   "version": "3.9.12"
  },
  "orig_nbformat": 4,
  "vscode": {
   "interpreter": {
    "hash": "345de11e5984e37b63caee47b9b74ca61cba2082542678996019da793e104c6d"
   }
  }
 },
 "nbformat": 4,
 "nbformat_minor": 2
}
